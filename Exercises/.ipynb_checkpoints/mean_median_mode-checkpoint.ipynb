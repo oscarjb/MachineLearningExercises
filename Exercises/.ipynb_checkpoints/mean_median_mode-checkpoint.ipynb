{
 "cells": [
  {
   "cell_type": "markdown",
   "metadata": {},
   "source": [
    "# Mean, Median, Mode, and introducing NumPy"
   ]
  },
  {
   "cell_type": "markdown",
   "metadata": {},
   "source": [
    "## Mean vs. Median"
   ]
  },
  {
   "cell_type": "markdown",
   "metadata": {},
   "source": [
    "Let's create some fake income data, centered around 27,000 with a normal distribution and standard deviation of 15,000, with 10,000 data points. (We'll discuss those terms more later, if you're not familiar with them.)\n",
    "\n",
    "Then, compute the mean (average) - it should be close to 27,000:"
   ]
  },
  {
   "cell_type": "code",
   "execution_count": 1,
   "metadata": {},
   "outputs": [],
   "source": [
    "# Execute the code here"
   ]
  },
  {
   "cell_type": "markdown",
   "metadata": {},
   "source": [
    "segment the income data into 50 buckets, and plot it as a histogram:"
   ]
  },
  {
   "cell_type": "code",
   "execution_count": 2,
   "metadata": {},
   "outputs": [],
   "source": [
    "# Execute the code here"
   ]
  },
  {
   "cell_type": "markdown",
   "metadata": {},
   "source": [
    "Now compute the median - since we have a nice, even distribution it too should be close to 27,000:"
   ]
  },
  {
   "cell_type": "code",
   "execution_count": 3,
   "metadata": {},
   "outputs": [],
   "source": [
    "# Execute the code here"
   ]
  },
  {
   "cell_type": "markdown",
   "metadata": {},
   "source": [
    "Now we'll add Jeff Bezos into the mix. Darn income inequality!"
   ]
  },
  {
   "cell_type": "code",
   "execution_count": 4,
   "metadata": {},
   "outputs": [],
   "source": [
    "incomes = np.append(incomes, [1000000000])"
   ]
  },
  {
   "cell_type": "markdown",
   "metadata": {},
   "source": [
    "The median won't change much, but the mean does:"
   ]
  },
  {
   "cell_type": "code",
   "execution_count": 5,
   "metadata": {},
   "outputs": [
    {
     "data": {
      "text/plain": [
       "27092.571036571815"
      ]
     },
     "execution_count": 5,
     "metadata": {},
     "output_type": "execute_result"
    }
   ],
   "source": [
    "np.median(incomes)"
   ]
  },
  {
   "cell_type": "code",
   "execution_count": 6,
   "metadata": {},
   "outputs": [
    {
     "data": {
      "text/plain": [
       "126921.0284963053"
      ]
     },
     "execution_count": 6,
     "metadata": {},
     "output_type": "execute_result"
    }
   ],
   "source": [
    "np.mean(incomes)"
   ]
  },
  {
   "cell_type": "markdown",
   "metadata": {},
   "source": [
    "## Mode"
   ]
  },
  {
   "cell_type": "markdown",
   "metadata": {},
   "source": [
    "Next, let's generate some fake age data for 500 people:"
   ]
  },
  {
   "cell_type": "code",
   "execution_count": 7,
   "metadata": {},
   "outputs": [
    {
     "data": {
      "text/plain": [
       "array([89, 83, 66, 20, 37, 79, 27, 83, 59, 52, 20, 48, 69, 81, 72, 37, 23,\n",
       "       88, 74, 64, 63, 43, 82, 62, 70, 18, 54, 33, 30, 43, 84, 31, 54, 51,\n",
       "       39, 55, 30, 34, 62, 54, 24, 28, 19, 86, 39, 25, 23, 45, 53, 46, 41,\n",
       "       23, 41, 74, 63, 25, 40, 85, 34, 54, 35, 47, 23, 68, 41, 72, 87, 62,\n",
       "       25, 84, 23, 42, 44, 35, 33, 58, 66, 68, 47, 67, 22, 71, 63, 30, 31,\n",
       "       74, 30, 82, 58, 20, 19, 73, 57, 21, 88, 63, 43, 68, 82, 72, 49, 20,\n",
       "       27, 68, 60, 82, 86, 46, 31, 25, 22, 19, 36, 18, 20, 40, 64, 85, 28,\n",
       "       18, 68, 52, 79, 53, 57, 63, 43, 26, 57, 29, 52, 71, 70, 60, 84, 83,\n",
       "       68, 20, 76, 57, 57, 52, 71, 72, 31, 77, 66, 20, 43, 49, 82, 53, 73,\n",
       "       40, 20, 32, 46, 81, 70, 86, 59, 62, 67, 74, 87, 58, 84, 72, 22, 47,\n",
       "       18, 71, 60, 28, 42, 74, 67, 24, 57, 89, 24, 85, 68, 74, 75, 50, 63,\n",
       "       61, 24, 72, 82, 87, 80, 25, 89, 60, 22, 71, 63, 52, 51, 26, 71, 78,\n",
       "       71, 43, 20, 30, 27, 72, 44, 31, 30, 52, 36, 29, 37, 56, 85, 34, 29,\n",
       "       65, 33, 39, 24, 19, 47, 33, 65, 53, 51, 52, 85, 42, 68, 26, 87, 28,\n",
       "       20, 21, 62, 60, 27, 74, 78, 69, 30, 40, 76, 34, 57, 85, 49, 26, 38,\n",
       "       86, 67, 62, 50, 72, 44, 37, 84, 21, 34, 30, 58, 45, 30, 51, 24, 52,\n",
       "       69, 69, 87, 72, 68, 81, 82, 41, 40, 51, 23, 66, 38, 88, 84, 21, 22,\n",
       "       89, 65, 80, 26, 49, 70, 74, 21, 48, 71, 60, 88, 43, 26, 23, 44, 89,\n",
       "       19, 60, 31, 22, 28, 24, 43, 54, 35, 34, 85, 30, 55, 63, 53, 55, 59,\n",
       "       39, 42, 38, 40, 45, 62, 88, 48, 29, 19, 37, 49, 56, 74, 74, 72, 80,\n",
       "       46, 21, 18, 41, 59, 24, 20, 68, 88, 53, 85, 81, 31, 31, 28, 31, 82,\n",
       "       45, 23, 86, 77, 62, 89, 33, 74, 29, 81, 73, 46, 79, 49, 86, 65, 48,\n",
       "       60, 24, 76, 43, 25, 58, 44, 18, 45, 82, 64, 27, 45, 74, 38, 78, 21,\n",
       "       48, 58, 89, 36, 35, 80, 85, 51, 57, 22, 26, 59, 78, 57, 48, 68, 83,\n",
       "       85, 77, 83, 31, 85, 75, 56, 69, 54, 89, 52, 51, 69, 36, 71, 88, 54,\n",
       "       57, 29, 88, 53, 31, 77, 50, 25, 28, 60, 67, 81, 82, 53, 19, 74, 76,\n",
       "       27, 72, 57, 18, 58, 83, 81, 44, 31, 76, 65, 33, 21, 31, 47, 38, 81,\n",
       "       81, 77, 49, 81, 36, 75, 84, 83, 53, 23, 56, 76, 27, 21, 48, 36, 38,\n",
       "       73, 60, 59, 74, 76, 49, 43, 64, 66, 84, 89, 54, 47, 69, 21, 27, 62,\n",
       "       70, 29, 24, 58, 49, 76, 77])"
      ]
     },
     "execution_count": 7,
     "metadata": {},
     "output_type": "execute_result"
    }
   ],
   "source": [
    "ages = np.random.randint(18, high=90, size=500)\n",
    "ages"
   ]
  },
  {
   "cell_type": "code",
   "execution_count": 8,
   "metadata": {},
   "outputs": [
    {
     "data": {
      "text/plain": [
       "ModeResult(mode=array([74]), count=array([14]))"
      ]
     },
     "execution_count": 8,
     "metadata": {},
     "output_type": "execute_result"
    }
   ],
   "source": [
    "from scipy import stats\n",
    "stats.mode(ages)"
   ]
  },
  {
   "cell_type": "code",
   "execution_count": null,
   "metadata": {},
   "outputs": [],
   "source": []
  }
 ],
 "metadata": {
  "kernelspec": {
   "display_name": "Python 3",
   "language": "python",
   "name": "python3"
  },
  "language_info": {
   "codemirror_mode": {
    "name": "ipython",
    "version": 3
   },
   "file_extension": ".py",
   "mimetype": "text/x-python",
   "name": "python",
   "nbconvert_exporter": "python",
   "pygments_lexer": "ipython3",
   "version": "3.9.1"
  }
 },
 "nbformat": 4,
 "nbformat_minor": 1
}
