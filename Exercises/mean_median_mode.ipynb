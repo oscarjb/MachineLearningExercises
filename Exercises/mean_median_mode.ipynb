{
 "cells": [
  {
   "cell_type": "markdown",
   "metadata": {},
   "source": [
    "# Mean, Median, Mode, and introducing NumPy"
   ]
  },
  {
   "cell_type": "markdown",
   "metadata": {},
   "source": [
    "## Mean vs. Median"
   ]
  },
  {
   "cell_type": "markdown",
   "metadata": {},
   "source": [
    "Let's create some fake income data, centered around 27,000 with a normal distribution and standard deviation of 15,000, with 10,000 data points. (We'll discuss those terms more later, if you're not familiar with them.)\n",
    "\n",
    "Then, compute the mean (average) - it should be close to 27,000:"
   ]
  },
  {
   "cell_type": "code",
   "execution_count": 8,
   "metadata": {},
   "outputs": [],
   "source": [
    "import numpy as np\n",
    "# Execute the code here"
   ]
  },
  {
   "cell_type": "markdown",
   "metadata": {},
   "source": [
    "segment the income data into 50 buckets, and plot it as a histogram:"
   ]
  },
  {
   "cell_type": "code",
   "execution_count": 2,
   "metadata": {},
   "outputs": [],
   "source": [
    "# Execute the code here"
   ]
  },
  {
   "cell_type": "markdown",
   "metadata": {},
   "source": [
    "Now compute the median - since we have a nice, even distribution it too should be close to 27,000:"
   ]
  },
  {
   "cell_type": "code",
   "execution_count": 3,
   "metadata": {},
   "outputs": [],
   "source": [
    "# Execute the code here"
   ]
  },
  {
   "cell_type": "markdown",
   "metadata": {},
   "source": [
    "Now we'll add Jeff Bezos into the mix. Darn income inequality!"
   ]
  },
  {
   "cell_type": "code",
   "execution_count": 4,
   "metadata": {},
   "outputs": [],
   "source": [
    "incomes = np.append(incomes, [1000000000])"
   ]
  },
  {
   "cell_type": "markdown",
   "metadata": {},
   "source": [
    "The median won't change much, but the mean does:\n",
    "\n",
    "Calculate the median"
   ]
  },
  {
   "cell_type": "code",
   "execution_count": 6,
   "metadata": {},
   "outputs": [],
   "source": [
    "# Execute the code here\n"
   ]
  },
  {
   "cell_type": "markdown",
   "metadata": {},
   "source": [
    "Calculate the mean"
   ]
  },
  {
   "cell_type": "code",
   "execution_count": 5,
   "metadata": {},
   "outputs": [],
   "source": [
    "# Execute the code here"
   ]
  },
  {
   "cell_type": "markdown",
   "metadata": {},
   "source": [
    "## Mode"
   ]
  },
  {
   "cell_type": "markdown",
   "metadata": {},
   "source": [
    "Next, let's generate some fake age data for 500 people:"
   ]
  },
  {
   "cell_type": "code",
   "execution_count": 9,
   "metadata": {},
   "outputs": [
    {
     "data": {
      "text/plain": [
       "array([79, 88, 89, 35, 47, 89, 30, 37, 21, 22, 52, 69, 87, 78, 67, 49, 87,\n",
       "       30, 33, 43, 78, 38, 22, 44, 39, 23, 48, 45, 87, 42, 74, 52, 31, 25,\n",
       "       46, 37, 38, 25, 67, 47, 27, 25, 83, 72, 52, 57, 80, 44, 85, 22, 52,\n",
       "       69, 83, 76, 24, 81, 59, 54, 23, 68, 47, 40, 36, 24, 68, 83, 40, 83,\n",
       "       66, 57, 57, 78, 73, 75, 62, 67, 71, 64, 39, 64, 35, 33, 60, 58, 52,\n",
       "       30, 33, 83, 79, 57, 88, 87, 44, 54, 87, 70, 71, 22, 31, 55, 33, 28,\n",
       "       39, 24, 76, 79, 53, 35, 23, 61, 55, 38, 34, 34, 45, 66, 24, 34, 62,\n",
       "       67, 38, 60, 83, 81, 73, 20, 41, 81, 76, 35, 24, 57, 55, 55, 43, 27,\n",
       "       76, 64, 49, 47, 74, 20, 45, 34, 61, 67, 43, 76, 78, 77, 27, 22, 47,\n",
       "       64, 63, 33, 66, 85, 76, 43, 20, 78, 42, 60, 33, 36, 78, 40, 42, 69,\n",
       "       65, 47, 56, 53, 76, 71, 73, 55, 81, 68, 59, 52, 35, 89, 78, 43, 69,\n",
       "       87, 61, 82, 67, 51, 77, 26, 73, 46, 59, 45, 57, 85, 54, 69, 61, 24,\n",
       "       52, 62, 73, 53, 60, 53, 18, 75, 72, 26, 82, 21, 74, 71, 39, 71, 67,\n",
       "       57, 53, 76, 80, 87, 29, 53, 47, 81, 27, 58, 87, 51, 60, 78, 54, 86,\n",
       "       72, 64, 48, 46, 25, 64, 24, 25, 46, 60, 53, 26, 49, 28, 58, 24, 77,\n",
       "       30, 33, 28, 71, 81, 19, 87, 75, 61, 73, 72, 35, 83, 65, 56, 22, 21,\n",
       "       73, 55, 38, 59, 32, 25, 22, 44, 84, 48, 46, 48, 26, 61, 48, 18, 81,\n",
       "       19, 23, 31, 88, 65, 27, 51, 51, 61, 32, 39, 57, 81, 86, 71, 79, 45,\n",
       "       66, 31, 85, 89, 85, 69, 49, 52, 87, 60, 19, 58, 65, 45, 51, 35, 75,\n",
       "       47, 49, 79, 47, 45, 40, 38, 20, 21, 84, 49, 86, 50, 79, 55, 56, 56,\n",
       "       78, 55, 72, 24, 20, 42, 88, 41, 26, 88, 28, 71, 35, 76, 18, 40, 77,\n",
       "       39, 46, 88, 18, 32, 57, 38, 25, 41, 62, 59, 32, 84, 47, 52, 85, 76,\n",
       "       57, 43, 75, 85, 32, 85, 46, 38, 26, 58, 32, 50, 19, 74, 41, 38, 65,\n",
       "       63, 62, 59, 51, 63, 82, 78, 28, 76, 72, 57, 60, 52, 58, 47, 66, 54,\n",
       "       70, 39, 66, 67, 78, 82, 36, 49, 78, 28, 89, 51, 72, 45, 61, 45, 71,\n",
       "       28, 67, 42, 73, 65, 23, 71, 46, 55, 20, 36, 37, 33, 83, 88, 70, 72,\n",
       "       20, 81, 21, 72, 59, 52, 26, 31, 20, 45, 51, 84, 41, 45, 32, 72, 42,\n",
       "       73, 72, 40, 76, 31, 31, 75, 28, 53, 58, 25, 48, 85, 46, 41, 37, 63,\n",
       "       81, 64, 59, 24, 44, 73, 50, 82, 51, 29, 85, 28, 69, 31, 85, 79, 28,\n",
       "       45, 62, 71, 89, 83, 44, 34])"
      ]
     },
     "execution_count": 9,
     "metadata": {},
     "output_type": "execute_result"
    }
   ],
   "source": [
    "ages = np.random.randint(18, high=90, size=500)\n",
    "ages"
   ]
  },
  {
   "cell_type": "code",
   "execution_count": 10,
   "metadata": {},
   "outputs": [
    {
     "data": {
      "text/plain": [
       "ModeResult(mode=array([45]), count=array([12]))"
      ]
     },
     "execution_count": 10,
     "metadata": {},
     "output_type": "execute_result"
    }
   ],
   "source": [
    "from scipy import stats\n",
    "stats.mode(ages)"
   ]
  },
  {
   "cell_type": "code",
   "execution_count": null,
   "metadata": {},
   "outputs": [],
   "source": []
  }
 ],
 "metadata": {
  "kernelspec": {
   "display_name": "Python 3",
   "language": "python",
   "name": "python3"
  },
  "language_info": {
   "codemirror_mode": {
    "name": "ipython",
    "version": 3
   },
   "file_extension": ".py",
   "mimetype": "text/x-python",
   "name": "python",
   "nbconvert_exporter": "python",
   "pygments_lexer": "ipython3",
   "version": "3.9.1"
  }
 },
 "nbformat": 4,
 "nbformat_minor": 1
}
